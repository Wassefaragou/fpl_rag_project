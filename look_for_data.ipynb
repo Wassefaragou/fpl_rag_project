{
 "cells": [
  {
   "cell_type": "code",
   "execution_count": null,
   "id": "19a42912",
   "metadata": {},
   "outputs": [],
   "source": [
    "import requests\n",
    "import pandas as pd\n",
    "import json"
   ]
  },
  {
   "cell_type": "code",
   "execution_count": null,
   "id": "91ca87f8",
   "metadata": {},
   "outputs": [],
   "source": [
    "base_url = \"https://fantasy.premierleague.com/api/\"\n",
    "response = requests.get(f\"{base_url}bootstrap-static/\")\n",
    "data = response.json()\n",
    "players_df = pd.DataFrame(data['elements'])\n",
    "teams_df = pd.DataFrame(data['teams'])\n",
    "players_df = players_df.merge(teams_df[['id', 'name','position']], \n",
    "                                  left_on='team', \n",
    "                                  right_on='id', \n",
    "                                  suffixes=('', '_team'))\n"
   ]
  },
  {
   "cell_type": "code",
   "execution_count": null,
   "id": "94c2862e",
   "metadata": {},
   "outputs": [],
   "source": [
    "players_df.rename(columns={'name': 'team_name','position':'position_team'}, inplace=True)"
   ]
  },
  {
   "cell_type": "code",
   "execution_count": null,
   "id": "cdf346b2",
   "metadata": {},
   "outputs": [],
   "source": [
    "players_df.head(10)"
   ]
  },
  {
   "cell_type": "code",
   "execution_count": null,
   "id": "ec6fdc80",
   "metadata": {},
   "outputs": [],
   "source": [
    "teams_df.head(10)"
   ]
  }
 ],
 "metadata": {
  "kernelspec": {
   "display_name": "base",
   "language": "python",
   "name": "python3"
  },
  "language_info": {
   "codemirror_mode": {
    "name": "ipython",
    "version": 3
   },
   "file_extension": ".py",
   "mimetype": "text/x-python",
   "name": "python",
   "nbconvert_exporter": "python",
   "pygments_lexer": "ipython3",
   "version": "3.12.4"
  }
 },
 "nbformat": 4,
 "nbformat_minor": 5
}
